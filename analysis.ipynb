{
 "cells": [
  {
   "cell_type": "markdown",
   "id": "e398194a-1a0f-455c-86f2-4956b8daccd8",
   "metadata": {
    "tags": []
   },
   "source": [
    "# Marc Partensky"
   ]
  },
  {
   "cell_type": "code",
   "execution_count": 3,
   "id": "2f0ed371-8097-411d-bada-1fa4f6f4df1d",
   "metadata": {
    "tags": []
   },
   "outputs": [
    {
     "name": "stdout",
     "output_type": "stream",
     "text": [
      "Python 3.9.16\n"
     ]
    }
   ],
   "source": [
    "!python -V"
   ]
  },
  {
   "cell_type": "code",
   "execution_count": 4,
   "id": "1b4d87eb-9f86-4573-bb9f-321d3c88311c",
   "metadata": {
    "tags": []
   },
   "outputs": [
    {
     "name": "stdout",
     "output_type": "stream",
     "text": [
      "Requirement already satisfied: pip in /usr/local/lib/python3.9/site-packages (23.1)\n",
      "Requirement already satisfied: numpy in /usr/local/lib/python3.9/site-packages (1.24.2)\n",
      "Requirement already satisfied: matplotlib in /usr/local/lib/python3.9/site-packages (3.7.1)\n",
      "Requirement already satisfied: scipy in /usr/local/lib/python3.9/site-packages (1.10.1)\n",
      "Requirement already satisfied: contourpy>=1.0.1 in /usr/local/lib/python3.9/site-packages (from matplotlib) (1.0.7)\n",
      "Requirement already satisfied: cycler>=0.10 in /usr/local/lib/python3.9/site-packages (from matplotlib) (0.11.0)\n",
      "Requirement already satisfied: fonttools>=4.22.0 in /usr/local/lib/python3.9/site-packages (from matplotlib) (4.39.3)\n",
      "Requirement already satisfied: kiwisolver>=1.0.1 in /usr/local/lib/python3.9/site-packages (from matplotlib) (1.4.4)\n",
      "Requirement already satisfied: packaging>=20.0 in /usr/local/lib/python3.9/site-packages (from matplotlib) (23.1)\n",
      "Requirement already satisfied: pillow>=6.2.0 in /usr/local/lib/python3.9/site-packages (from matplotlib) (9.5.0)\n",
      "Requirement already satisfied: pyparsing>=2.3.1 in /usr/local/lib/python3.9/site-packages (from matplotlib) (3.0.9)\n",
      "Requirement already satisfied: python-dateutil>=2.7 in /usr/local/lib/python3.9/site-packages (from matplotlib) (2.8.2)\n",
      "Requirement already satisfied: importlib-resources>=3.2.0 in /usr/local/lib/python3.9/site-packages (from matplotlib) (5.12.0)\n",
      "Requirement already satisfied: zipp>=3.1.0 in /usr/local/lib/python3.9/site-packages (from importlib-resources>=3.2.0->matplotlib) (3.15.0)\n",
      "Requirement already satisfied: six>=1.5 in /usr/local/lib/python3.9/site-packages (from python-dateutil>=2.7->matplotlib) (1.16.0)\n",
      "\u001b[33mWARNING: Running pip as the 'root' user can result in broken permissions and conflicting behaviour with the system package manager. It is recommended to use a virtual environment instead: https://pip.pypa.io/warnings/venv\u001b[0m\u001b[33m\n",
      "\u001b[0m"
     ]
    }
   ],
   "source": [
    "!python -m pip install -U pip numpy matplotlib scipy"
   ]
  },
  {
   "cell_type": "code",
   "execution_count": 7,
   "id": "f2dce580-b8ae-4322-8b75-5aef7bc92cb9",
   "metadata": {
    "tags": []
   },
   "outputs": [],
   "source": [
    "import pickle\n",
    "import numpy as np\n",
    "import matplotlib.pyplot as plt"
   ]
  },
  {
   "cell_type": "code",
   "execution_count": 8,
   "id": "af35a7c2-2170-43a1-a582-2eb4fbbc9e4e",
   "metadata": {
    "tags": []
   },
   "outputs": [
    {
     "name": "stdout",
     "output_type": "stream",
     "text": [
      "(10, 200)\n"
     ]
    }
   ],
   "source": [
    "with open('encodings.pickle', 'rb') as file:\n",
    "    encodings = pickle.load(file)\n",
    "\n",
    "print(encodings.shape)"
   ]
  },
  {
   "cell_type": "markdown",
   "id": "a879ab3a-d2e0-4853-bf95-c971799cc031",
   "metadata": {
    "tags": []
   },
   "source": [
    "# KNN"
   ]
  },
  {
   "cell_type": "code",
   "execution_count": 11,
   "id": "526f891b-f66e-4ec0-9196-31ca6cd0ec72",
   "metadata": {},
   "outputs": [
    {
     "data": {
      "image/png": "[encoded data removed]",
      "text/plain": [
       "<Figure size 640x480 with 1 Axes>"
      ]
     },
     "metadata": {},
     "output_type": "display_data"
    }
   ],
   "source": [
    "from scipy.spatial.distance import cdist\n",
    "\n",
    "# Assuming your encoded vectors are stored in a numpy ndarray called `encoded_vectors`\n",
    "n_neighbors = 5  # number of neighbors to consider\n",
    "distances = cdist(encodings, encodings, 'euclidean')\n",
    "sorted_distances = np.sort(distances, axis=1)\n",
    "dist_to_nth_neighbor = sorted_distances[:, n_neighbors - 1]\n",
    "\n",
    "# Plot the distribution of distances\n",
    "plt.hist(dist_to_nth_neighbor, bins=50)\n",
    "plt.xlabel('Distance to the {}th nearest neighbor'.format(n_neighbors))\n",
    "plt.ylabel('Frequency')\n",
    "plt.show()"
   ]
  },
  {
   "cell_type": "code",
   "execution_count": null,
   "id": "deca7206-06ed-4192-9ff1-f9dae3fbde79",
   "metadata": {},
   "outputs": [],
   "source": []
  }
 ],
 "metadata": {
  "kernelspec": {
   "display_name": "Python 3 (ipykernel)",
   "language": "python",
   "name": "python3"
  },
  "language_info": {
   "codemirror_mode": {
    "name": "ipython",
    "version": 3
   },
   "file_extension": ".py",
   "mimetype": "text/x-python",
   "name": "python",
   "nbconvert_exporter": "python",
   "pygments_lexer": "ipython3",
   "version": "3.9.16"
  }
 },
 "nbformat": 4,
 "nbformat_minor": 5
}
