{
 "cells": [
  {
   "cell_type": "markdown",
   "metadata": {
    "id": "12Hch7Ep1jd1"
   },
   "source": [
    "# Generating new faces with Variational Autoencoders"
   ]
  },
  {
   "cell_type": "code",
   "execution_count": 23,
   "metadata": {
    "tags": []
   },
   "outputs": [
    {
     "name": "stdout",
     "output_type": "stream",
     "text": [
      "Python 3.9.16\n"
     ]
    }
   ],
   "source": [
    "!python -V"
   ]
  },
  {
   "cell_type": "code",
   "execution_count": 24,
   "metadata": {
    "tags": []
   },
   "outputs": [
    {
     "name": "stdout",
     "output_type": "stream",
     "text": [
      "\u001b[33mWARNING: Running pip as the 'root' user can result in broken permissions and conflicting behaviour with the system package manager. It is recommended to use a virtual environment instead: https://pip.pypa.io/warnings/venv\u001b[0m\u001b[33m\n",
      "\u001b[0m\u001b[33mWARNING: You are using pip version 22.0.4; however, version 23.1 is available.\n",
      "You should consider upgrading via the '/usr/local/bin/python -m pip install --upgrade pip' command.\u001b[0m\u001b[33m\n",
      "\u001b[0m"
     ]
    }
   ],
   "source": [
    "!pip install -q matplotlib numpy keras kaggle"
   ]
  },
  {
   "cell_type": "markdown",
   "metadata": {
    "id": "KMB3OKRa1_qC"
   },
   "source": [
    "Deep generative models such as Generative Adversarial Networks (GANs) are gaining tremendous popularity, both in the industry as well as academic research. In fact, Yann LeCun, the father of the Convolutional Neural Network, described it as “the most interesting idea in the last 10 years in Machine Learning.” The idea of a computer program generating new human faces or new animals can be quite exciting. Deep generative models take a slightly different approach compared to supervised learning which we shall discuss very soon.\n",
    "\n",
    "This quick and concise tutorial covers the basics of Deep Generative Modelling with Variational Autoencoders. I am assuming that you are fairly familiar with the concepts of Convolutional Neural Networks and representation learning. If not, I would recommend watching Andrej Karpathy's [CS231n lecture videos](https://www.youtube.com/playlist?list=PLkt2uSq6rBVctENoVBg1TpCC7OQi31AlC) as they are, in my honest opinion, the best resource for learning CNNs on the internet. You can also find the lecture notes for the course [here](http://cs231n.github.io/).\n",
    "\n",
    "This example demonstrates the process of building and training a VAE using Keras to generate new faces. We shall be using the [CelebFaces Attributes (CelebA) Dataset](https://www.kaggle.com/jessicali9530/celeba-dataset) from Kaggle and [Google Colab](https://colab.research.google.com/) for training the VAE model."
   ]
  },
  {
   "cell_type": "markdown",
   "metadata": {
    "id": "xC9Owm_0qzsh"
   },
   "source": [
    "## GENERATIVE MODELS"
   ]
  },
  {
   "cell_type": "markdown",
   "metadata": {
    "id": "fnIwc5nQq51K"
   },
   "source": [
    "If you're beginning to explore the field of Generative Deep Learning, a Variational Autoencoder (VAE) is ideal to kick off your journey. The VAE architecture is intuitive and simple to understand. Contrary to a discriminative model such as a CNN classifier a generative model attempts to learn the underlying distribution of the data rather than classifying the data into one of many categories. A well trained CNN classifier would be highly accurate in differentiating an image of a car from that of a house. However, this does not accomplish our objective of generating images of cars and houses.\n",
    "\n",
    "A discriminative model learns to capture useful information from the data and utilise that information to classify a new data point into one of two or more categories. From a probabilistic perspective, a discriminative model estimates the probability $p(y|x)$, where $y$ is the category or class and $x$ is the data point. It estimates the probability of a datapoint $x$ belonging to the category $y$. For example, the probability of an image being that of a car or a house. \n",
    "\n",
    "A generative model learns the underlying distribution of the data that explains how the data was generated. In essence, it mimics the underlying distribution and allows us to sample from it to generate new data. It can be defined as estimating the probability $p(x)$, where $x$ is the data point. It estimates the probability of observing the data point $x$ in the distribution. \n",
    "\n"
   ]
  },
  {
   "cell_type": "markdown",
   "metadata": {
    "id": "IHNXkqbQSPab"
   },
   "source": [
    "## SIMPLE AUTOENCODER"
   ]
  },
  {
   "cell_type": "markdown",
   "metadata": {
    "id": "3vYqWcz2TSGC"
   },
   "source": [
    "Before delving into a Variational Autoencoder, it is crucial to analyse a simple Autoencoder. \n",
    "\n",
    "A simple or Vanilla Autoencoder consists of two neural networks - an Encoder and a Decoder. An Encoder is responsible for converting an image into a compact lower dimensional vector (or latent vector). This latent vector is a compressed representation of the image. The Encoder, therefore maps an input from the higher dimensional input space to the lower dimensional latent space. This is similar to a CNN classifier. In a CNN classifier, this latent vector would be subsequently fed into a softmax layer to compute individual class probabilities. However in an Autoencoder, these outputs are fed into the Decoder. The Decoder is a different neural network that tries to reconstruct the image, thereby mapping from the lower dimenstional latent space to the higher dimensional output space. The Encoder and Decoder perform mappings that are exactly opposite to each other, as shown in the image <i>img-1</i>. \n",
    "\n",
    "\n",
    "<br>\n",
    "<img src=\"https://upload.wikimedia.org/wikipedia/commons/2/28/Autoencoder_structure.png\"> \n",
    "<br><i>img-1</i>\n",
    "<br><i>Source : en.wikipedia.org/wiki/Autoencoder</i>\n",
    "\n",
    "<br><br>\n",
    "Consider the following analogy to understand this better. Imagine you're playing a game with your friend over the phone. The rules of the game are simple. You are presented with a number of different cylinders. Your task is to describe the cylinders to your friend who will then attempt to recreate them out of modelling clay. You are forbidden from sending pictures. How will you convey this information? \n",
    "\n",
    "Since any cylinder can be constructed with two parameters - its height and diameter, the most efficient strategy would be to estimate these two measures and convey them to your friend. Your friend, upon receiving this information can then reconstruct the cylinder. In this example, it is quite evident that you are performing the function of an Encoder by condensing visual information into two quantities. Your friend on the contrary, is performing the function of a Decoder by utilising this condensed information to recreate the cylinder.\n",
    "\n",
    "\n"
   ]
  },
  {
   "cell_type": "markdown",
   "metadata": {
    "id": "f6t5W_nP74hs"
   },
   "source": [
    "## HOUSEKEEPING"
   ]
  },
  {
   "cell_type": "markdown",
   "metadata": {
    "id": "kKnfi7Fw8T0i"
   },
   "source": [
    "### Downloading the dataset\n",
    "The dataset can be downloaded directly into your Google Colab environment using the [Kaggle API](https://www.kaggle.com/docs/api) as shown below. You can refer to this [post](https://medium.com/@opalkabert/downloading-kaggle-datasets-into-google-colab-fb9654c94235) on Medium for more details."
   ]
  },
  {
   "cell_type": "code",
   "execution_count": 3,
   "metadata": {
    "id": "nsrp7-z_DhwC"
   },
   "outputs": [
    {
     "name": "stdout",
     "output_type": "stream",
     "text": [
      "\u001b[33mWARNING: Running pip as the 'root' user can result in broken permissions and conflicting behaviour with the system package manager. It is recommended to use a virtual environment instead: https://pip.pypa.io/warnings/venv\u001b[0m\u001b[33m\n",
      "\u001b[0m\u001b[33mWARNING: You are using pip version 22.0.4; however, version 23.1 is available.\n",
      "You should consider upgrading via the '/usr/local/bin/python -m pip install --upgrade pip' command.\u001b[0m\u001b[33m\n",
      "\u001b[0m"
     ]
    }
   ],
   "source": [
    "!pip install -U -q kaggle\n",
    "!mkdir -p ~/.kaggle"
   ]
  },
  {
   "cell_type": "markdown",
   "metadata": {
    "id": "arkcGnbYEANN"
   },
   "source": [
    "\\Upload Kaggle.json downloaded from your registered kaggle account"
   ]
  },
  {
   "cell_type": "code",
   "execution_count": 4,
   "metadata": {
    "colab": {
     "base_uri": "https://localhost:8080/",
     "height": 92
    },
    "id": "SIqN_lFbE8EF",
    "outputId": "efee3193-c348-4560-976f-bb25cc2a498c"
   },
   "outputs": [],
   "source": [
    "# from google.colab import files\n",
    "# files.upload()"
   ]
  },
  {
   "cell_type": "code",
   "execution_count": 5,
   "metadata": {
    "colab": {
     "base_uri": "https://localhost:8080/"
    },
    "id": "XtC3zNAPFF1G",
    "outputId": "45e7b800-01bc-4a11-edf5-1c50be69dfda"
   },
   "outputs": [
    {
     "name": "stdout",
     "output_type": "stream",
     "text": [
      "Warning: Your Kaggle API key is readable by other users on this system! To fix this, you can run 'chmod 600 /root/.kaggle/kaggle.json'\n",
      "celeba-dataset.zip: Skipping, found more recently modified local copy (use --force to force download)\n"
     ]
    }
   ],
   "source": [
    "!cp kaggle.json ~/.kaggle/\n",
    "!kaggle datasets download -d jessicali9530/celeba-dataset"
   ]
  },
  {
   "cell_type": "code",
   "execution_count": null,
   "metadata": {
    "id": "ybJZqcJtFPRU"
   },
   "outputs": [],
   "source": [
    "import os\n",
    "from glob import glob\n",
    "\n",
    "WEIGHTS_FOLDER = './weights/'\n",
    "DATA_FOLDER = './data/img_align_celeba/'\n",
    "TRUE_DATA_FOLDER = './data'\n",
    "\n",
    "if not os.path.exists(WEIGHTS_FOLDER):\n",
    "  os.makedirs(os.path.join(WEIGHTS_FOLDER,\"AE\"))\n",
    "  os.makedirs(os.path.join(WEIGHTS_FOLDER,\"VAE\"))\n",
    "\n",
    "#Unzip the dataset downloaded from kaggle\n",
    "if not os.path.exists(TRUE_DATA_FOLDER):\n",
    "    from zipfile import ZipFile\n",
    "    with ZipFile('celeba-dataset.zip', 'r') as zipObj:\n",
    "       # Extract all the contents of zip file in the data directory\n",
    "       zipObj.extractall(TRUE_DATA_FOLDER)"
   ]
  },
  {
   "cell_type": "markdown",
   "metadata": {
    "id": "qhqIej7KHkks"
   },
   "source": [
    "Caution (for Colab users) : Do not attempt to explore the directory using the viewer on the left as the page becomes unresponsive owing to the large size of the dataset."
   ]
  },
  {
   "cell_type": "markdown",
   "metadata": {
    "id": "8bgUWwLUHa2o"
   },
   "source": [
    "### Imports"
   ]
  },
  {
   "cell_type": "code",
   "execution_count": 7,
   "metadata": {
    "id": "VOT3x5xOIhEH"
   },
   "outputs": [
    {
     "name": "stderr",
     "output_type": "stream",
     "text": [
      "2023-04-18 22:09:42.737093: I tensorflow/tsl/cuda/cudart_stub.cc:28] Could not find cuda drivers on your machine, GPU will not be used.\n",
      "2023-04-18 22:09:42.824714: I tensorflow/tsl/cuda/cudart_stub.cc:28] Could not find cuda drivers on your machine, GPU will not be used.\n",
      "2023-04-18 22:09:42.826571: I tensorflow/core/platform/cpu_feature_guard.cc:182] This TensorFlow binary is optimized to use available CPU instructions in performance-critical operations.\n",
      "To enable the following instructions: AVX2 FMA, in other operations, rebuild TensorFlow with the appropriate compiler flags.\n",
      "2023-04-18 22:09:45.536820: W tensorflow/compiler/tf2tensorrt/utils/py_utils.cc:38] TF-TRT Warning: Could not find TensorRT\n"
     ]
    }
   ],
   "source": [
    "import numpy as np\n",
    "\n",
    "from tensorflow.keras.preprocessing.image import ImageDataGenerator\n",
    "from keras.layers import Input, Conv2D, Flatten, Dense, Conv2DTranspose, Reshape, Lambda, Activation, BatchNormalization, LeakyReLU, Dropout\n",
    "from keras.models import Model\n",
    "from keras import backend as K\n",
    "from keras.optimizers import Adam\n",
    "from keras.callbacks import ModelCheckpoint \n",
    "from keras.utils import plot_model"
   ]
  },
  {
   "cell_type": "markdown",
   "metadata": {
    "id": "hqTCXtp4LjgD"
   },
   "source": [
    "###Data"
   ]
  },
  {
   "cell_type": "code",
   "execution_count": 8,
   "metadata": {
    "colab": {
     "base_uri": "https://localhost:8080/"
    },
    "id": "d1ur9Fq2OG3v",
    "outputId": "0b4a5b2c-7456-490b-a5a4-583eeb27151d"
   },
   "outputs": [
    {
     "name": "stdout",
     "output_type": "stream",
     "text": [
      "Total number of images : 202599\n"
     ]
    }
   ],
   "source": [
    "filenames = np.array(glob(os.path.join(DATA_FOLDER, '*/*.jpg')))\n",
    "NUM_IMAGES = len(filenames)\n",
    "print(\"Total number of images : \" + str(NUM_IMAGES))"
   ]
  },
  {
   "cell_type": "markdown",
   "metadata": {
    "id": "MAOEfLF0Oi4N"
   },
   "source": [
    "Since the dataset is quite large, we shall create an <i>ImageDataGenerator</i> object and employ its member function - <i>flow_from_directory</i> to define the flow of data directly from disk rather than loading the entire dataset into memory. The ImageDataGenerator can also be used to dynamically apply various transformations for image augmentation which is particularly useful in the case of small datasets.\n",
    "\n",
    "I highly encourage you to refer to the [documentation](https://keras.io/preprocessing/image/#flow_from_directory) for understanding the various parameters of the dataflow function. "
   ]
  },
  {
   "cell_type": "code",
   "execution_count": 9,
   "metadata": {
    "colab": {
     "base_uri": "https://localhost:8080/"
    },
    "id": "-I53l3rAPqyE",
    "outputId": "8145301f-3d71-498d-cf2c-8d4c32512d6f"
   },
   "outputs": [
    {
     "name": "stdout",
     "output_type": "stream",
     "text": [
      "Found 202599 images belonging to 1 classes.\n"
     ]
    }
   ],
   "source": [
    "INPUT_DIM = (128,128,3) # Image dimension\n",
    "BATCH_SIZE = 512\n",
    "Z_DIM = 200 # Dimension of the latent vector (z)\n",
    "\n",
    "train_datagen = ImageDataGenerator(rescale=1./255)\n",
    "data_flow = train_datagen.flow_from_directory(DATA_FOLDER, \n",
    "                                                                   target_size = INPUT_DIM[:2],\n",
    "                                                                   batch_size = BATCH_SIZE,\n",
    "                                                                   shuffle = True,\n",
    "                                                                   class_mode = 'input',\n",
    "                                                                   subset = 'training',\n",
    "                                                                   )"
   ]
  },
  {
   "cell_type": "markdown",
   "metadata": {
    "id": "YBtwRJQDUJsZ"
   },
   "source": [
    "### MODEL ARCHITECTURE\n"
   ]
  },
  {
   "cell_type": "markdown",
   "metadata": {
    "id": "bZhwpjUmgDxq"
   },
   "source": [
    "####Building the Encoder"
   ]
  },
  {
   "cell_type": "code",
   "execution_count": 10,
   "metadata": {
    "id": "8XlsuP_NeNWb"
   },
   "outputs": [],
   "source": [
    "# ENCODER\n",
    "def build_encoder(input_dim, output_dim, conv_filters, conv_kernel_size, \n",
    "                  conv_strides):\n",
    "  \n",
    "  # Clear tensorflow session to reset layer index numbers to 0 for LeakyRelu, \n",
    "  # BatchNormalization and Dropout.\n",
    "  # Otherwise, the names of above mentioned layers in the model \n",
    "  # would be inconsistent\n",
    "  global K\n",
    "  K.clear_session()\n",
    "  \n",
    "  # Number of Conv layers\n",
    "  n_layers = len(conv_filters)\n",
    "\n",
    "  # Define model input\n",
    "  encoder_input = Input(shape = input_dim, name = 'encoder_input')\n",
    "  x = encoder_input\n",
    "\n",
    "  # Add convolutional layers\n",
    "  for i in range(n_layers):\n",
    "      x = Conv2D(filters = conv_filters[i], \n",
    "                  kernel_size = conv_kernel_size[i],\n",
    "                  strides = conv_strides[i], \n",
    "                  padding = 'same',\n",
    "                  name = 'encoder_conv_' + str(i)\n",
    "                  )(x)\n",
    "\n",
    "      x = LeakyReLU()(x)\n",
    "    \n",
    "  # Required for reshaping latent vector while building Decoder\n",
    "  shape_before_flattening = K.int_shape(x)[1:] \n",
    "  \n",
    "  x = Flatten()(x)\n",
    "\n",
    "  # Define model output\n",
    "  encoder_output = Dense(output_dim, name = 'encoder_output')(x)\n",
    "\n",
    "  return encoder_input, encoder_output, shape_before_flattening, Model(encoder_input, encoder_output)"
   ]
  },
  {
   "cell_type": "markdown",
   "metadata": {
    "id": "nRTAGanXgNFH"
   },
   "source": [
    "<br><br>\n",
    "The architecture of the Encoder, as shown below, consists of a stack of convolutional layers followed by a dense (fully connected) layer which outputs a vector of size 200.\n",
    "\n",
    "\n",
    "<i>Note : The combination of padding = 'same' and stride = 2 will produce an output tensor half the size of the input tensor in both height and width. The depth/channels aren't affected as they are numerically equal to the number of filters. </i>\n",
    "<br><br>"
   ]
  },
  {
   "cell_type": "code",
   "execution_count": 11,
   "metadata": {
    "colab": {
     "base_uri": "https://localhost:8080/"
    },
    "id": "XGyVqdsvDkgi",
    "outputId": "129e9065-9794-4a77-f2a4-d825433a67d9"
   },
   "outputs": [
    {
     "name": "stdout",
     "output_type": "stream",
     "text": [
      "Model: \"model\"\n",
      "_________________________________________________________________\n",
      " Layer (type)                Output Shape              Param #   \n",
      "=================================================================\n",
      " encoder_input (InputLayer)  [(None, 128, 128, 3)]     0         \n",
      "                                                                 \n",
      " encoder_conv_0 (Conv2D)     (None, 64, 64, 32)        896       \n",
      "                                                                 \n",
      " leaky_re_lu (LeakyReLU)     (None, 64, 64, 32)        0         \n",
      "                                                                 \n",
      " encoder_conv_1 (Conv2D)     (None, 32, 32, 64)        18496     \n",
      "                                                                 \n",
      " leaky_re_lu_1 (LeakyReLU)   (None, 32, 32, 64)        0         \n",
      "                                                                 \n",
      " encoder_conv_2 (Conv2D)     (None, 16, 16, 64)        36928     \n",
      "                                                                 \n",
      " leaky_re_lu_2 (LeakyReLU)   (None, 16, 16, 64)        0         \n",
      "                                                                 \n",
      " encoder_conv_3 (Conv2D)     (None, 8, 8, 64)          36928     \n",
      "                                                                 \n",
      " leaky_re_lu_3 (LeakyReLU)   (None, 8, 8, 64)          0         \n",
      "                                                                 \n",
      " flatten (Flatten)           (None, 4096)              0         \n",
      "                                                                 \n",
      " encoder_output (Dense)      (None, 200)               819400    \n",
      "                                                                 \n",
      "=================================================================\n",
      "Total params: 912,648\n",
      "Trainable params: 912,648\n",
      "Non-trainable params: 0\n",
      "_________________________________________________________________\n"
     ]
    }
   ],
   "source": [
    "encoder_input, encoder_output,  shape_before_flattening, encoder  = build_encoder(input_dim = INPUT_DIM,\n",
    "                                    output_dim = Z_DIM, \n",
    "                                    conv_filters = [32, 64, 64, 64],\n",
    "                                    conv_kernel_size = [3,3,3,3],\n",
    "                                    conv_strides = [2,2,2,2])\n",
    "\n",
    "encoder.summary()"
   ]
  },
  {
   "cell_type": "markdown",
   "metadata": {
    "id": "zYC79JgkjCYO"
   },
   "source": [
    "####Building the Decoder\n"
   ]
  },
  {
   "cell_type": "code",
   "execution_count": 12,
   "metadata": {
    "id": "TvBVuQvMjF3A"
   },
   "outputs": [],
   "source": [
    "# Decoder\n",
    "def build_decoder(input_dim, shape_before_flattening, conv_filters, conv_kernel_size, \n",
    "                  conv_strides):\n",
    "\n",
    "  # Number of Conv layers\n",
    "  n_layers = len(conv_filters)\n",
    "\n",
    "  # Define model input\n",
    "  decoder_input = Input(shape = (input_dim,) , name = 'decoder_input')\n",
    "\n",
    "  # To get an exact mirror image of the encoder\n",
    "  x = Dense(np.prod(shape_before_flattening))(decoder_input)\n",
    "  x = Reshape(shape_before_flattening)(x)\n",
    "\n",
    "  # Add convolutional layers\n",
    "  for i in range(n_layers):\n",
    "      x = Conv2DTranspose(filters = conv_filters[i], \n",
    "                  kernel_size = conv_kernel_size[i],\n",
    "                  strides = conv_strides[i], \n",
    "                  padding = 'same',\n",
    "                  name = 'decoder_conv_' + str(i)\n",
    "                  )(x)\n",
    "      \n",
    "      # Adding a sigmoid layer at the end to restrict the outputs \n",
    "      # between 0 and 1\n",
    "      if i < n_layers - 1:\n",
    "        x = LeakyReLU()(x)\n",
    "      else:\n",
    "        x = Activation('sigmoid')(x)\n",
    "\n",
    "  # Define model output\n",
    "  decoder_output = x\n",
    "\n",
    "  return decoder_input, decoder_output, Model(decoder_input, decoder_output)"
   ]
  },
  {
   "cell_type": "markdown",
   "metadata": {
    "id": "TK2r9yGEzCMx"
   },
   "source": [
    "<br><br>\n",
    "Recall that it is the function of the Decoder to reconstruct the image from the latent vector. Therefore, it is necessary to define the decoder so as to increase the size of the activations gradually through the network. This can be achieved either through the [UpSampling2D](https://keras.io/layers/convolutional/#upsampling2d) layer or the [Conv2DTransponse](https://keras.io/layers/convolutional/#conv2dtranspose) layer.\n",
    "\n",
    "Here, the Conv2DTranspose Layer is employed. This layer produces an output tensor double the size of the input tensor in both height and width.\n",
    "\n",
    "<i>Note : The Decoder, in this example, is defined to be a mirror image of the encoder, which is not mandatory.</i>\n",
    "\n",
    "<br><br>"
   ]
  },
  {
   "cell_type": "code",
   "execution_count": 13,
   "metadata": {
    "colab": {
     "base_uri": "https://localhost:8080/"
    },
    "id": "rXNEIvXdsP1P",
    "outputId": "39e809c8-51ab-4708-c550-06d30b7dbce0"
   },
   "outputs": [
    {
     "name": "stdout",
     "output_type": "stream",
     "text": [
      "Model: \"model_1\"\n",
      "_________________________________________________________________\n",
      " Layer (type)                Output Shape              Param #   \n",
      "=================================================================\n",
      " decoder_input (InputLayer)  [(None, 200)]             0         \n",
      "                                                                 \n",
      " dense (Dense)               (None, 4096)              823296    \n",
      "                                                                 \n",
      " reshape (Reshape)           (None, 8, 8, 64)          0         \n",
      "                                                                 \n",
      " decoder_conv_0 (Conv2DTrans  (None, 16, 16, 64)       36928     \n",
      " pose)                                                           \n",
      "                                                                 \n",
      " leaky_re_lu_4 (LeakyReLU)   (None, 16, 16, 64)        0         \n",
      "                                                                 \n",
      " decoder_conv_1 (Conv2DTrans  (None, 32, 32, 64)       36928     \n",
      " pose)                                                           \n",
      "                                                                 \n",
      " leaky_re_lu_5 (LeakyReLU)   (None, 32, 32, 64)        0         \n",
      "                                                                 \n",
      " decoder_conv_2 (Conv2DTrans  (None, 64, 64, 32)       18464     \n",
      " pose)                                                           \n",
      "                                                                 \n",
      " leaky_re_lu_6 (LeakyReLU)   (None, 64, 64, 32)        0         \n",
      "                                                                 \n",
      " decoder_conv_3 (Conv2DTrans  (None, 128, 128, 3)      867       \n",
      " pose)                                                           \n",
      "                                                                 \n",
      " activation (Activation)     (None, 128, 128, 3)       0         \n",
      "                                                                 \n",
      "=================================================================\n",
      "Total params: 916,483\n",
      "Trainable params: 916,483\n",
      "Non-trainable params: 0\n",
      "_________________________________________________________________\n"
     ]
    }
   ],
   "source": [
    "decoder_input, decoder_output, decoder = build_decoder(input_dim = Z_DIM,\n",
    "                                        shape_before_flattening = shape_before_flattening,\n",
    "                                        conv_filters = [64,64,32,3],                                        \n",
    "                                        conv_kernel_size = [3,3,3,3],\n",
    "                                        conv_strides = [2,2,2,2]\n",
    "                                        )\n",
    "decoder.summary()"
   ]
  },
  {
   "cell_type": "markdown",
   "metadata": {
    "id": "-lK7PJGCyoa9"
   },
   "source": [
    "#### Attaching the Decoder to the Encoder"
   ]
  },
  {
   "cell_type": "code",
   "execution_count": 14,
   "metadata": {
    "colab": {
     "base_uri": "https://localhost:8080/"
    },
    "id": "ma7ZQ2pow2am",
    "outputId": "62390b1f-d70b-4adb-fb34-84bf65d87f90"
   },
   "outputs": [
    {
     "name": "stdout",
     "output_type": "stream",
     "text": [
      "Model: \"model_2\"\n",
      "_________________________________________________________________\n",
      " Layer (type)                Output Shape              Param #   \n",
      "=================================================================\n",
      " encoder_input (InputLayer)  [(None, 128, 128, 3)]     0         \n",
      "                                                                 \n",
      " encoder_conv_0 (Conv2D)     (None, 64, 64, 32)        896       \n",
      "                                                                 \n",
      " leaky_re_lu (LeakyReLU)     (None, 64, 64, 32)        0         \n",
      "                                                                 \n",
      " encoder_conv_1 (Conv2D)     (None, 32, 32, 64)        18496     \n",
      "                                                                 \n",
      " leaky_re_lu_1 (LeakyReLU)   (None, 32, 32, 64)        0         \n",
      "                                                                 \n",
      " encoder_conv_2 (Conv2D)     (None, 16, 16, 64)        36928     \n",
      "                                                                 \n",
      " leaky_re_lu_2 (LeakyReLU)   (None, 16, 16, 64)        0         \n",
      "                                                                 \n",
      " encoder_conv_3 (Conv2D)     (None, 8, 8, 64)          36928     \n",
      "                                                                 \n",
      " leaky_re_lu_3 (LeakyReLU)   (None, 8, 8, 64)          0         \n",
      "                                                                 \n",
      " flatten (Flatten)           (None, 4096)              0         \n",
      "                                                                 \n",
      " encoder_output (Dense)      (None, 200)               819400    \n",
      "                                                                 \n",
      " model_1 (Functional)        (None, 128, 128, 3)       916483    \n",
      "                                                                 \n",
      "=================================================================\n",
      "Total params: 1,829,131\n",
      "Trainable params: 1,829,131\n",
      "Non-trainable params: 0\n",
      "_________________________________________________________________\n"
     ]
    }
   ],
   "source": [
    "# The input to the model will be the image fed to the encoder.\n",
    "simple_autoencoder_input = encoder_input\n",
    "\n",
    "# The output will be the output of the decoder. The term - decoder(encoder_output) \n",
    "# combines the model by passing the encoder output to the input of the decoder.\n",
    "simple_autoencoder_output = decoder(encoder_output)\n",
    "\n",
    "# Input to the combined model will be the input to the encoder.\n",
    "# Output of the combined model will be the output of the decoder.\n",
    "simple_autoencoder = Model(simple_autoencoder_input, simple_autoencoder_output)\n",
    "\n",
    "simple_autoencoder.summary()"
   ]
  },
  {
   "cell_type": "markdown",
   "metadata": {
    "id": "29JoCbVi5PJO"
   },
   "source": [
    "### COMPILATION AND TRAINING\n",
    "\n",
    "The loss function used is a simple Root Mean Square Error (RMSE). The true output is the same batch of images that was fed to the model at its input layer. The Adam optimizer is optimizing the RMSE error for encoding the batch of images into their respective latent vectors and subsequently decoding them to reconstruct the images. \n",
    "\n",
    "The ModelCheckpoint Keras callback saves the model weights for reuse. It overwrites the file with a fresh set of weights after every epoch.\n",
    "\n",
    "NOTE : If you're using Google Colab, either download the weights to disc or mount your Google Drive."
   ]
  },
  {
   "cell_type": "code",
   "execution_count": 35,
   "metadata": {
    "colab": {
     "base_uri": "https://localhost:8080/"
    },
    "id": "JdGJw4Fb6I7e",
    "outputId": "64062493-5696-4d2d-a96f-a346e198c817"
   },
   "outputs": [],
   "source": [
    "LEARNING_RATE = 0.0005\n",
    "N_EPOCHS = 10\n",
    "\n",
    "optimizer = Adam(lr = LEARNING_RATE)\n",
    "\n",
    "def r_loss(y_true, y_pred):\n",
    "    return K.mean(K.square(y_true - y_pred), axis = [1,2,3])\n",
    "\n",
    "simple_autoencoder.compile(optimizer=optimizer, loss = r_loss)\n",
    "\n",
    "checkpoint_ae = ModelCheckpoint(os.path.join(WEIGHTS_FOLDER, 'AE/weights.h5'), save_weights_only = True, verbose=1)\n"
   ]
  },
  {
   "cell_type": "markdown",
   "metadata": {
    "id": "QJBFjC83ZWiw"
   },
   "source": [
    "<i>TIP</i> : Here's a really useful tip I found on Reddit (by arvind1096) - to prevent Google Colab from disconnecting due to a timeout issue, execute the following JS function in the Google Chrome console. \n",
    "\n",
    "<br>\n",
    "function ClickConnect(){console.log(\"Working\");document.querySelector(\"colab-toolbar-button#connect\").click()}setInterval(ClickConnect,60000)"
   ]
  },
  {
   "cell_type": "code",
   "execution_count": null,
   "metadata": {
    "colab": {
     "base_uri": "https://localhost:8080/"
    },
    "id": "1F7g3wxz6Mkp",
    "outputId": "5fbde24e-46e0-42af-d8e9-e66f4711395d"
   },
   "outputs": [
    {
     "name": "stderr",
     "output_type": "stream",
     "text": [
      "/tmp/ipykernel_667/810622777.py:1: UserWarning: `Model.fit_generator` is deprecated and will be removed in a future version. Please use `Model.fit`, which supports generators.\n",
      "  simple_autoencoder.fit_generator(data_flow,\n"
     ]
    },
    {
     "name": "stdout",
     "output_type": "stream",
     "text": [
      "Epoch 1/10\n"
     ]
    },
    {
     "name": "stderr",
     "output_type": "stream",
     "text": [
      "2023-04-18 22:17:46.081148: I tensorflow/core/common_runtime/executor.cc:1197] [/device:CPU:0] (DEBUG INFO) Executor start aborting (this does not indicate an error and you can ignore this message): INVALID_ARGUMENT: You must feed a value for placeholder tensor 'Placeholder/_0' with dtype int32\n",
      "\t [[{{node Placeholder/_0}}]]\n"
     ]
    },
    {
     "name": "stdout",
     "output_type": "stream",
     "text": [
      "240/395 [=================>............] - ETA: 12:48 - loss: 0.0341"
     ]
    }
   ],
   "source": [
    "simple_autoencoder.fit_generator(data_flow, \n",
    "                                 shuffle=True, \n",
    "                                 epochs = N_EPOCHS, \n",
    "                                 initial_epoch = 0, \n",
    "                                 steps_per_epoch=NUM_IMAGES / BATCH_SIZE,\n",
    "                                 callbacks=[checkpoint_ae])"
   ]
  },
  {
   "cell_type": "markdown",
   "metadata": {
    "id": "VbFnCBjKu9xa"
   },
   "source": [
    "### RECONSTRUCTION\n",
    "\n",
    "The first step is to generate a new batch of images using the ImageDataGenerator defined in the 'Data' section at the top. The images are returned as an array and the number of images is equal to BATCH_SIZE. "
   ]
  },
  {
   "cell_type": "code",
   "execution_count": 37,
   "metadata": {
    "id": "ft5zuMQ6CpyA"
   },
   "outputs": [],
   "source": [
    "example_batch = next(data_flow)\n",
    "example_batch = example_batch[0]\n",
    "example_images = example_batch[:10]"
   ]
  },
  {
   "cell_type": "code",
   "execution_count": 38,
   "metadata": {
    "colab": {
     "base_uri": "https://localhost:8080/"
    },
    "id": "dCh8oDx9Yo-D",
    "outputId": "02193b2b-d77b-4097-a9d0-0da0b3888646"
   },
   "outputs": [
    {
     "data": {
      "text/plain": [
       "(10, 128, 128, 3)"
      ]
     },
     "execution_count": 38,
     "metadata": {},
     "output_type": "execute_result"
    }
   ],
   "source": [
    "example_images.shape"
   ]
  },
  {
   "cell_type": "markdown",
   "metadata": {
    "id": "0n4b-icw0w7b"
   },
   "source": [
    "#### Displaying the reconstructed images"
   ]
  },
  {
   "cell_type": "code",
   "execution_count": 39,
   "metadata": {
    "id": "tlb7dC8WDGS5"
   },
   "outputs": [],
   "source": [
    "import matplotlib.pyplot as plt"
   ]
  },
  {
   "cell_type": "code",
   "execution_count": null,
   "metadata": {},
   "outputs": [],
   "source": [
    "# import pickle\n",
    "\n",
    "# encodings = encoder.predict(next(data_flow[0])\n",
    "\n",
    "# with open(\"encodings.pickle\", \"wb\") as f:\n",
    "#     pickle.dump(encodings, f)"
   ]
  },
  {
   "cell_type": "code",
   "execution_count": 40,
   "metadata": {
    "id": "KXA1XWCvXgMy"
   },
   "outputs": [],
   "source": [
    "def plot_compare(images=None, add_noise=False):\n",
    "  \n",
    "  if images is None:\n",
    "    example_batch = next(data_flow)\n",
    "    example_batch = example_batch[0]\n",
    "    images = example_batch[:10]\n",
    "\n",
    "  n_to_show = images.shape[0]\n",
    "\n",
    "  if add_noise:\n",
    "    encodings = encoder.predict(images)\n",
    "    encodings += np.random.normal(0.0, 1.0, size = (n_to_show,200))\n",
    "    reconst_images = decoder.predict(encodings)\n",
    "\n",
    "  else:\n",
    "    reconst_images = simple_autoencoder.predict(images)\n",
    "\n",
    "  fig = plt.figure(figsize=(15, 3))\n",
    "  fig.subplots_adjust(hspace=0.4, wspace=0.4)\n",
    "\n",
    "  for i in range(n_to_show):\n",
    "      img = images[i].squeeze()\n",
    "      sub = fig.add_subplot(2, n_to_show, i+1)\n",
    "      sub.axis('off')        \n",
    "      sub.imshow(img)\n",
    "\n",
    "  for i in range(n_to_show):\n",
    "      img = reconst_images[i].squeeze()\n",
    "      sub = fig.add_subplot(2, n_to_show, i+n_to_show+1)\n",
    "      sub.axis('off')\n",
    "      sub.imshow(img)  "
   ]
  },
  {
   "cell_type": "code",
   "execution_count": 41,
   "metadata": {
    "colab": {
     "base_uri": "https://localhost:8080/",
     "height": 274
    },
    "id": "npzeVL7V-Zva",
    "outputId": "0b47aca5-8f83-4f88-a627-c83bc0b7310e"
   },
   "outputs": [
    {
     "name": "stdout",
     "output_type": "stream",
     "text": [
      "1/1 [==============================] - 0s 217ms/step\n"
     ]
    },
    {
     "data": {
      "image/png": "[encoded data removed]",
      "text/plain": [
       "<Figure size 1500x300 with 20 Axes>"
      ]
     },
     "metadata": {},
     "output_type": "display_data"
    }
   ],
   "source": [
    "plot_compare(example_images)"
   ]
  },
  {
   "cell_type": "markdown",
   "metadata": {
    "id": "cOq-JH9x9C97"
   },
   "source": [
    "The first row shows images directly from the dataset and the second row shows images that have been passed through the Autoencoder. Evidently, the model has learned to encode and decode (reconstruct) fairly well. \n",
    "\n",
    "NOTE : A reason why the images lack sharpness is due to the RMSE loss as it averages out the differences between individual pixel values. Generative Adversarial Networks on the contrary, produce much sharper images."
   ]
  },
  {
   "cell_type": "markdown",
   "metadata": {
    "id": "yCTA-q22-jZa"
   },
   "source": [
    "### DRAWBACKS"
   ]
  },
  {
   "cell_type": "markdown",
   "metadata": {
    "id": "j4ZHW0pKWJse"
   },
   "source": [
    "#### Adding noise vectors sampled from a standard normal distribution to the image encodings"
   ]
  },
  {
   "cell_type": "code",
   "execution_count": null,
   "metadata": {
    "colab": {
     "base_uri": "https://localhost:8080/",
     "height": 292
    },
    "id": "o0f-ZXZfL0ZM",
    "outputId": "872c011e-f449-49a0-aecd-f650e4204c18"
   },
   "outputs": [],
   "source": [
    "plot_compare(images = example_images, add_noise = True)"
   ]
  },
  {
   "cell_type": "markdown",
   "metadata": {
    "id": "uLbdXT_rWiw8"
   },
   "source": [
    "It can be observed that the images are starting to get distorted with a bit of noise added to its encodings. One possible reason could be that the model did not ensure that the space around the encoded values (latent space) was continuous."
   ]
  },
  {
   "cell_type": "markdown",
   "metadata": {
    "id": "5m9arqxuct41"
   },
   "source": [
    "### Attempting to generate images from latent vectors sampled from a standard normal distribution"
   ]
  },
  {
   "cell_type": "code",
   "execution_count": null,
   "metadata": {
    "id": "6lVD_ABySdVK"
   },
   "outputs": [],
   "source": [
    "def generate_images_from_noise(n_to_show = 10): \n",
    "  reconst_images = decoder.predict(np.random.normal(0,1,size=(n_to_show,Z_DIM)))\n",
    "\n",
    "  fig = plt.figure(figsize=(15, 3))\n",
    "  fig.subplots_adjust(hspace=0.4, wspace=0.4)\n",
    "\n",
    "  for i in range(n_to_show):\n",
    "      img = reconst_images[i].squeeze()\n",
    "      sub = fig.add_subplot(2, n_to_show, i+1)\n",
    "      sub.axis('off')        \n",
    "      sub.imshow(img)"
   ]
  },
  {
   "cell_type": "code",
   "execution_count": null,
   "metadata": {
    "colab": {
     "base_uri": "https://localhost:8080/",
     "height": 139
    },
    "id": "p4IJKygUdz-K",
    "outputId": "d748e2c4-b101-4f27-a832-34ef666523ce"
   },
   "outputs": [],
   "source": [
    "generate_images_from_noise()"
   ]
  },
  {
   "cell_type": "markdown",
   "metadata": {
    "id": "0XnSuVPSfIuW"
   },
   "source": [
    "It is evident that the latent vector sampled from a standard normal distribution can not be used to generate new faces. This shows that the latent vectors generated by the model are not centered/symmetrical around the origin. This also strengthens our inference that the latent space is not continuous.\n",
    "\n",
    "Since we do not have a definite distribution to sample latent vectors from, it is unclear as to how we can generate new faces. We observed that adding a bit of noise to the latent vector does not produce new faces. We can encode and decode images but that does not meet our objective. \n",
    "\n",
    "Building on this thought, wouldn't it be great if we could generate new faces from latent vectors sampled from a standard normal distribution? This is essentially what a Variational Autoencoder does."
   ]
  },
  {
   "cell_type": "markdown",
   "metadata": {
    "id": "0aWwM1tYjY3h"
   },
   "source": [
    "## VARIATIONAL AUTOENCODER\n",
    "\n"
   ]
  },
  {
   "cell_type": "markdown",
   "metadata": {
    "id": "e0KLT5byj_Z4"
   },
   "source": [
    "Variational Autencoders tackle most of the problems discussed above. They are trained to generate new faces from latent vectors sampled from a standard normal distribution. While a Simple Autoencoder learns to map each image to a fixed point in the latent space, the Encoder of a Variational Autoencoder (VAE) maps each image to a z-dimensional standard normal distribution. \n",
    "\n"
   ]
  },
  {
   "cell_type": "markdown",
   "metadata": {
    "id": "oFOSFRhIn_Hp"
   },
   "source": [
    "#### How can a simple Autoencoder be modified to make the encoder map to a z-dimensional standard normal distribution?\n",
    "\n",
    "Any z-dimensional normal distribution can be represented by a mean vector $\\mu$ and a covariance matrix $\\Sigma$.\n",
    "\n",
    "<br>\n",
    "<center>\n",
    "$\\mu= \\begin{pmatrix} \\mu_1\\\\ \\vdots \\\\\\mu_z \\end{pmatrix},\n",
    "\\ \\ \\ \\Sigma =\n",
    "\\begin{pmatrix} \\sigma_1^2 & \\rho\\sigma_1\\sigma_2 & \\cdots &   \\rho\\sigma_1\\sigma_z   \n",
    "\\\\ \\rho\\sigma_2\\sigma_1 & \\sigma_z^2 & \\cdots & \\rho\\sigma_2\\sigma_z\n",
    "\\\\ \\vdots & \\vdots & \\ddots & \\vdots \n",
    "\\\\ \\rho\\sigma_z\\sigma_1 & \\rho\\sigma_z\\sigma_2 & \\cdots & \\sigma_z^2 \\end{pmatrix}\n",
    "$\n",
    "</center>\n",
    "<br><br>\n",
    "\n",
    "<b>Therefore, in the case of a VAE, the encoder should output  a mean vector ($\\mu$) and a covariance matrix ($\\Sigma$) to map to a normal distribution, right?</b>\n",
    "\n",
    "Yes, however, there are slight modifications to be made to the covariance matrix $\\Sigma$.\n",
    "\n",
    "<b>Modification 1) </b>It is assumed that there is no correlation between the elements of the latent vector. Hence, the non diagonal elements, representing covariance, are all zeroes. The covariance matrix is therefore, a diagonal matrix.\n",
    "\n",
    "<br>\n",
    "<center>\n",
    "$\\Sigma =\\begin{pmatrix} \\sigma_1^2 & 0 & \\cdots & 0  \n",
    "\\\\ 0 & \\sigma_z^2 & \\cdots & 0\n",
    "\\\\ \\vdots & \\vdots & \\ddots & \\vdots \n",
    "\\\\ 0 & 0 & \\cdots & \\sigma_z^2 \\end{pmatrix}$\n",
    "</center>\n",
    "<br>\n",
    "\n",
    "As the diagonal elements of this matrix represent variance, it is simply represented as $\\sigma^2$, a z-dimensional variance vector.\n",
    "\n",
    "<br>\n",
    "<center>\n",
    "$\\sigma^2 =\\begin{pmatrix} \\sigma_1^2 \n",
    "\\\\ \\vdots  \n",
    "\\\\ \\sigma_z^2 \\end{pmatrix}$\n",
    "</center>\n",
    "<br>\n",
    "\n",
    "<b>Modification 2) </b> Recall that the variance can only take non-negative values. To ensure that the output of the encoder is unbounded, the encoder is actually mapped to the mean vector and the <b>logarithm</b> of the variance vector. The logarithm ensures that the output can now take up any value in the range, $(-\\infty,\\infty)$. This makes training easier as the outputs of the neural network are naturally unbounded.\n",
    "\n",
    "<b>Now, how is it ensured that the Encoder maps to a standard normal distribution (i.e., with a mean of 0 and a standard deviation of 1)?</b>\n",
    "\n",
    "Enter KL divergence.\n",
    "\n",
    "<b>KL divergence</b> provides a measurement of the extent to which one probability distribution differs from another. The KL divergence between a distribution with mean $\\mu$ and standard deviation $\\sigma\\$, and the standard normal distribution, takes up the form:\n",
    "\n",
    "<br>\n",
    "<center>\n",
    "$D_{KL}[N(\\mu,\\sigma) \\ || \\ N(0,1)] = \\frac{1}{2}\\sum_{i=1}^{z}(1+\\log(\\sigma_i^2) - \\mu_i^2 - \\sigma_i^2)$\n",
    "</center>\n",
    "</br>\n",
    "\n",
    "\n",
    "By slightly modifying the loss function to include the KL divergence loss in addition to the RMSE loss, the VAE is forced to ensure that the encodings are very similar to a multivariate standard normal distribution. Since a multivariate standard normal distribution has a zero mean, it is centered around the origin. Mapping each image to a standard normal distribution as opposed to a fixed point ensures that the latent space is continuous and the latent vectors are centered around the origin.\n",
    "\n",
    "Take a look at the image <i>img-2</i> for a better understanding.\n",
    "\n",
    "<br>\n",
    "<img src=\"https://blog.bayeslabs.co/assets/img/vae.jpg\"> \n",
    "<br><i>img-2</i>\n",
    "<br><i>Source : blog.bayeslabs.co/2019/06/04/All-you-need-to-know-about-Vae</i>\n",
    "\n"
   ]
  },
  {
   "cell_type": "markdown",
   "metadata": {
    "id": "8vHP2VsdC093"
   },
   "source": [
    "#### If the encoder maps to $\\mu$ and $\\sigma$ instead of a z-dimensional latent vector, what is the input given to the Decoder during training?\n",
    "\n",
    "The input to the Decoder, as shown in <i>img-2</i>, is a vector sampled from the normal distribution represented by the output of the Encoder - $\\mu$ and $\\sigma$. This sampling can be done as follows:\n",
    "\n",
    "<center>\n",
    "$Z = \\mu + \\sigma\\varepsilon$\n",
    "</center>\n",
    "\n",
    "where $\\varepsilon$ is a sampled from a multivariate standard normal distribution.\n",
    "\n"
   ]
  },
  {
   "cell_type": "markdown",
   "metadata": {
    "id": "rYdeHADwG193"
   },
   "source": [
    "#### How do we generate new faces?\n",
    "\n",
    "Since the KL divergence ensures that the encoder maps as close to a standard normal distribution as possible, we can sample from a z-dimensional standard normal distribution and feed it to the decoder to generate new images."
   ]
  },
  {
   "cell_type": "markdown",
   "metadata": {
    "id": "f62OFdSfQJyy"
   },
   "source": [
    "#### Does the decoder require any modification?\n",
    "No, the decoder remains the same. It is identical to that of a Simple Autoencoder."
   ]
  },
  {
   "cell_type": "markdown",
   "metadata": {
    "id": "nVRq8eQNHmFZ"
   },
   "source": [
    "### CODE"
   ]
  },
  {
   "cell_type": "markdown",
   "metadata": {
    "id": "jl0sSds_F_rB"
   },
   "source": [
    "#### Building the Encoder\n"
   ]
  },
  {
   "cell_type": "code",
   "execution_count": null,
   "metadata": {
    "id": "jZ5hNK4TKwTW"
   },
   "outputs": [],
   "source": [
    "# ENCODER\n",
    "def build_vae_encoder(input_dim, output_dim, conv_filters, conv_kernel_size, \n",
    "                  conv_strides, use_batch_norm = False, use_dropout = False):\n",
    "  \n",
    "  # Clear tensorflow session to reset layer index numbers to 0 for LeakyRelu, \n",
    "  # BatchNormalization and Dropout.\n",
    "  # Otherwise, the names of above mentioned layers in the model \n",
    "  # would be inconsistent\n",
    "  global K\n",
    "  K.clear_session()\n",
    "  \n",
    "  # Number of Conv layers\n",
    "  n_layers = len(conv_filters)\n",
    "\n",
    "  # Define model input\n",
    "  encoder_input = Input(shape = input_dim, name = 'encoder_input')\n",
    "  x = encoder_input\n",
    "\n",
    "  # Add convolutional layers\n",
    "  for i in range(n_layers):\n",
    "      x = Conv2D(filters = conv_filters[i], \n",
    "                  kernel_size = conv_kernel_size[i],\n",
    "                  strides = conv_strides[i], \n",
    "                  padding = 'same',\n",
    "                  name = 'encoder_conv_' + str(i)\n",
    "                  )(x)\n",
    "      if use_batch_norm:\n",
    "        x = BatchNormalization()(x)\n",
    "  \n",
    "      x = LeakyReLU()(x)\n",
    "\n",
    "      if use_dropout:\n",
    "        x = Dropout(rate=0.25)(x)\n",
    "\n",
    "  # Required for reshaping latent vector while building Decoder\n",
    "  shape_before_flattening = K.int_shape(x)[1:] \n",
    "  \n",
    "  x = Flatten()(x)\n",
    "  \n",
    "  mean_mu = Dense(output_dim, name = 'mu')(x)\n",
    "  log_var = Dense(output_dim, name = 'log_var')(x)\n",
    "\n",
    "  # Defining a function for sampling\n",
    "  def sampling(args):\n",
    "    mean_mu, log_var = args\n",
    "    epsilon = K.random_normal(shape=K.shape(mean_mu), mean=0., stddev=1.) \n",
    "    return mean_mu + K.exp(log_var/2)*epsilon   \n",
    "  \n",
    "  # Using a Keras Lambda Layer to include the sampling function as a layer \n",
    "  # in the model\n",
    "  encoder_output = Lambda(sampling, name='encoder_output')([mean_mu, log_var])\n",
    "\n",
    "  return encoder_input, encoder_output, mean_mu, log_var, shape_before_flattening, Model(encoder_input, encoder_output)"
   ]
  },
  {
   "cell_type": "code",
   "execution_count": 20,
   "metadata": {
    "colab": {
     "base_uri": "https://localhost:8080/"
    },
    "id": "EA-bLCfjQgjw",
    "outputId": "e26b46e6-e421-4bfb-b596-01b2da7e6757"
   },
   "outputs": [
    {
     "ename": "NameError",
     "evalue": "name 'build_vae_encoder' is not defined",
     "output_type": "error",
     "traceback": [
      "\u001b[0;31m---------------------------------------------------------------------------\u001b[0m",
      "\u001b[0;31mNameError\u001b[0m                                 Traceback (most recent call last)",
      "Cell \u001b[0;32mIn[20], line 1\u001b[0m\n\u001b[0;32m----> 1\u001b[0m vae_encoder_input, vae_encoder_output,  mean_mu, log_var, vae_shape_before_flattening, vae_encoder  \u001b[38;5;241m=\u001b[39m \u001b[43mbuild_vae_encoder\u001b[49m(input_dim \u001b[38;5;241m=\u001b[39m INPUT_DIM,\n\u001b[1;32m      2\u001b[0m                                     output_dim \u001b[38;5;241m=\u001b[39m Z_DIM, \n\u001b[1;32m      3\u001b[0m                                     conv_filters \u001b[38;5;241m=\u001b[39m [\u001b[38;5;241m32\u001b[39m, \u001b[38;5;241m64\u001b[39m, \u001b[38;5;241m64\u001b[39m, \u001b[38;5;241m64\u001b[39m],\n\u001b[1;32m      4\u001b[0m                                     conv_kernel_size \u001b[38;5;241m=\u001b[39m [\u001b[38;5;241m3\u001b[39m,\u001b[38;5;241m3\u001b[39m,\u001b[38;5;241m3\u001b[39m,\u001b[38;5;241m3\u001b[39m],\n\u001b[1;32m      5\u001b[0m                                     conv_strides \u001b[38;5;241m=\u001b[39m [\u001b[38;5;241m2\u001b[39m,\u001b[38;5;241m2\u001b[39m,\u001b[38;5;241m2\u001b[39m,\u001b[38;5;241m2\u001b[39m])\n\u001b[1;32m      7\u001b[0m vae_encoder\u001b[38;5;241m.\u001b[39msummary()\n",
      "\u001b[0;31mNameError\u001b[0m: name 'build_vae_encoder' is not defined"
     ]
    }
   ],
   "source": [
    "vae_encoder_input, vae_encoder_output,  mean_mu, log_var, vae_shape_before_flattening, vae_encoder  = build_vae_encoder(input_dim = INPUT_DIM,\n",
    "                                    output_dim = Z_DIM, \n",
    "                                    conv_filters = [32, 64, 64, 64],\n",
    "                                    conv_kernel_size = [3,3,3,3],\n",
    "                                    conv_strides = [2,2,2,2])\n",
    "\n",
    "vae_encoder.summary()"
   ]
  },
  {
   "cell_type": "markdown",
   "metadata": {
    "id": "s10B4Q7USlcP"
   },
   "source": [
    "#### Building the Decoder\n",
    "Since the Decoder remains the same, the Decoder architecture of the Simple Autoencoder is reused."
   ]
  },
  {
   "cell_type": "code",
   "execution_count": null,
   "metadata": {
    "colab": {
     "base_uri": "https://localhost:8080/"
    },
    "id": "aSesj43jSNKR",
    "outputId": "4eaa4d04-661a-428e-dc22-9a85f00a0f55"
   },
   "outputs": [],
   "source": [
    "vae_decoder_input, vae_decoder_output, vae_decoder = build_decoder(input_dim = Z_DIM,\n",
    "                                        shape_before_flattening = shape_before_flattening,\n",
    "                                        conv_filters = [64,64,32,3],\n",
    "                                        conv_kernel_size = [3,3,3,3],\n",
    "                                        conv_strides = [2,2,2,2]\n",
    "                                        )\n",
    "vae_decoder.summary()"
   ]
  },
  {
   "cell_type": "markdown",
   "metadata": {
    "id": "Qwpz77-9Shrz"
   },
   "source": [
    "#### Attaching the Decoder to the Encoder\n"
   ]
  },
  {
   "cell_type": "code",
   "execution_count": null,
   "metadata": {
    "colab": {
     "base_uri": "https://localhost:8080/"
    },
    "id": "uMrFtgW7TGq9",
    "outputId": "49836559-5794-49fc-b1f5-7fadaac1d918"
   },
   "outputs": [],
   "source": [
    "# The input to the model will be the image fed to the encoder.\n",
    "vae_input = vae_encoder_input\n",
    "\n",
    "# Output will be the output of the decoder. The term - decoder(encoder_output) \n",
    "# combines the model by passing the encoder output to the input of the decoder.\n",
    "vae_output = vae_decoder(vae_encoder_output)\n",
    "\n",
    "# Input to the combined model will be the input to the encoder.\n",
    "# Output of the combined model will be the output of the decoder.\n",
    "vae_model = Model(vae_input, vae_output)\n",
    "\n",
    "vae_model.summary()"
   ]
  },
  {
   "cell_type": "markdown",
   "metadata": {
    "id": "4cz1alSFTsh0"
   },
   "source": [
    "### COMPILATION AND TRAINING\n"
   ]
  },
  {
   "cell_type": "markdown",
   "metadata": {
    "id": "69jeaO2_UFLC"
   },
   "source": [
    "The loss function is a sum of RMSE and KL Divergence. A weight is assigned to the RMSE loss, known as the loss factor. The loss factor is multiplied with the RMSE loss. If we use a high loss factor, the drawbacks of a Simple Autoencoder start to appear. However, if we use a loss factor too low, the quality of the reconstructed images will be poor. Hence the loss factor is a hyperparameter that needs to be tuned."
   ]
  },
  {
   "cell_type": "code",
   "execution_count": null,
   "metadata": {
    "id": "hFgWtViZWuIx"
   },
   "outputs": [],
   "source": [
    "LEARNING_RATE = 0.0005\n",
    "N_EPOCHS = 200\n",
    "LOSS_FACTOR = 10000"
   ]
  },
  {
   "cell_type": "code",
   "execution_count": null,
   "metadata": {
    "id": "K60sTIs1T-kI"
   },
   "outputs": [],
   "source": [
    "def kl_loss(y_true, y_pred):\n",
    "    kl_loss =  -0.5 * K.sum(1 + log_var - K.square(mean_mu) - K.exp(log_var), axis = 1)\n",
    "    return kl_loss\n",
    "\n",
    "def total_loss(y_true, y_pred):\n",
    "    return LOSS_FACTOR*r_loss(y_true, y_pred) + kl_loss(y_true, y_pred)"
   ]
  },
  {
   "cell_type": "code",
   "execution_count": null,
   "metadata": {
    "id": "-VpdQdXLU5wR"
   },
   "outputs": [],
   "source": [
    "adam_optimizer = Adam(lr = LEARNING_RATE)\n",
    "\n",
    "vae_model.compile(optimizer=adam_optimizer, loss = total_loss, metrics = [r_loss, kl_loss])\n",
    "\n",
    "checkpoint_vae = ModelCheckpoint(os.path.join(WEIGHTS_FOLDER, 'VAE/weights.h5'), save_weights_only = True, verbose=1)"
   ]
  },
  {
   "cell_type": "code",
   "execution_count": null,
   "metadata": {
    "colab": {
     "base_uri": "https://localhost:8080/",
     "height": 924
    },
    "id": "LIejqAfqVCoK",
    "outputId": "54b5e955-1340-439c-d0aa-2721cdd27ffe"
   },
   "outputs": [],
   "source": [
    "vae_model.fit_generator(data_flow, \n",
    "                        shuffle=True, \n",
    "                        epochs = N_EPOCHS, \n",
    "                        initial_epoch = 0, \n",
    "                        steps_per_epoch=NUM_IMAGES / BATCH_SIZE,\n",
    "                        callbacks=[checkpoint_vae])"
   ]
  },
  {
   "cell_type": "markdown",
   "metadata": {
    "id": "2MxKSLUcYC3k"
   },
   "source": [
    "### RECONSTRUCTION.\n",
    "The reconstruction process is the same as that of the Simple Autoencoder."
   ]
  },
  {
   "cell_type": "code",
   "execution_count": null,
   "metadata": {
    "id": "5lZFg7CZXcSE"
   },
   "outputs": [],
   "source": [
    "example_batch = next(data_flow)\n",
    "example_batch = example_batch[0]\n",
    "example_images = example_batch[:10]"
   ]
  },
  {
   "cell_type": "code",
   "execution_count": null,
   "metadata": {
    "id": "zvMxs1zqXMaM"
   },
   "outputs": [],
   "source": [
    "def plot_compare_vae(images=None):\n",
    "  \n",
    "  if images is None:\n",
    "    example_batch = next(data_flow)\n",
    "    example_batch = example_batch[0]\n",
    "    images = example_batch[:10]\n",
    "\n",
    "  n_to_show = images.shape[0]\n",
    "  reconst_images = vae_model.predict(images)\n",
    "\n",
    "  fig = plt.figure(figsize=(15, 3))\n",
    "  fig.subplots_adjust(hspace=0.4, wspace=0.4)\n",
    "\n",
    "  for i in range(n_to_show):\n",
    "      img = images[i].squeeze()\n",
    "      sub = fig.add_subplot(2, n_to_show, i+1)\n",
    "      sub.axis('off')        \n",
    "      sub.imshow(img)\n",
    "\n",
    "  for i in range(n_to_show):\n",
    "      img = reconst_images[i].squeeze()\n",
    "      sub = fig.add_subplot(2, n_to_show, i+n_to_show+1)\n",
    "      sub.axis('off')\n",
    "      sub.imshow(img)  "
   ]
  },
  {
   "cell_type": "code",
   "execution_count": null,
   "metadata": {
    "id": "FIe84EVRXjau"
   },
   "outputs": [],
   "source": [
    "plot_compare_vae(images = example_images)"
   ]
  },
  {
   "cell_type": "markdown",
   "metadata": {
    "id": "Rop_D8i0WcxH"
   },
   "source": [
    "### Generating new faces from random vectors sampled from a standard normal distribution. "
   ]
  },
  {
   "cell_type": "code",
   "execution_count": null,
   "metadata": {
    "id": "5vy_QSMYEyaI"
   },
   "outputs": [],
   "source": [
    "def vae_generate_images(n_to_show=10):\n",
    "  reconst_images = vae_decoder.predict(np.random.normal(0,1,size=(n_to_show,Z_DIM)))\n",
    "\n",
    "  fig = plt.figure(figsize=(15, 3))\n",
    "  fig.subplots_adjust(hspace=0.4, wspace=0.4)\n",
    "\n",
    "  for i in range(n_to_show):\n",
    "        img = reconst_images[i].squeeze()\n",
    "        sub = fig.add_subplot(2, n_to_show, i+1)\n",
    "        sub.axis('off')        \n",
    "        sub.imshow(img)"
   ]
  },
  {
   "cell_type": "code",
   "execution_count": null,
   "metadata": {
    "id": "JjLT6jZ0bIC7"
   },
   "outputs": [],
   "source": [
    "vae_generate_images(n_to_show=10)"
   ]
  },
  {
   "cell_type": "markdown",
   "metadata": {
    "id": "Oa7MQz0ObSSw"
   },
   "source": [
    "The VAE is evidently capable enough of producing new faces from vectors samped from a standard normal distribution. The fact that a neural network is capable of generating new faces from random noise shows how powerful it is in performing extremely complex mappings!"
   ]
  },
  {
   "cell_type": "markdown",
   "metadata": {
    "id": "wo1Ugz-HZDuW"
   },
   "source": [
    "As it is impossible to visualize a 200 dimensional vector, some of the elements of the latent vector are individually visualized to see if they are close to a standard normal distribution."
   ]
  },
  {
   "cell_type": "code",
   "execution_count": null,
   "metadata": {
    "id": "nm2xH6VuaIkK"
   },
   "outputs": [],
   "source": [
    "from scipy.stats import norm"
   ]
  },
  {
   "cell_type": "code",
   "execution_count": null,
   "metadata": {
    "id": "CGPCsFDzZdnt"
   },
   "outputs": [],
   "source": [
    "z_test = vae_encoder.predict(example_batch[:200])\n",
    "\n",
    "x = np.linspace(-3, 3, 300)\n",
    "\n",
    "fig = plt.figure(figsize=(20, 20))\n",
    "fig.subplots_adjust(hspace=0.6, wspace=0.4)\n",
    "\n",
    "for i in range(50):\n",
    "    ax = fig.add_subplot(5, 10, i+1)\n",
    "    ax.hist(z_test[:,i], density=True, bins = 20)\n",
    "    ax.axis('off')\n",
    "    ax.text(0.5, -0.35, str(i), fontsize=10, ha='center', transform=ax.transAxes)\n",
    "    ax.plot(x,norm.pdf(x))\n",
    "\n",
    "plt.show()"
   ]
  },
  {
   "cell_type": "markdown",
   "metadata": {
    "id": "W5TEPbqYaeDB"
   },
   "source": [
    "It is observed that the first 50 elements of the Z dimensional vector are very similar to a standard normal distribution. The addition of the KL divergence term is therefore, justified. "
   ]
  }
 ],
 "metadata": {
  "accelerator": "GPU",
  "colab": {
   "machine_shape": "hm",
   "provenance": []
  },
  "kernelspec": {
   "display_name": "Python 3 (ipykernel)",
   "language": "python",
   "name": "python3"
  },
  "language_info": {
   "codemirror_mode": {
    "name": "ipython",
    "version": 3
   },
   "file_extension": ".py",
   "mimetype": "text/x-python",
   "name": "python",
   "nbconvert_exporter": "python",
   "pygments_lexer": "ipython3",
   "version": "3.9.16"
  }
 },
 "nbformat": 4,
 "nbformat_minor": 4
}
